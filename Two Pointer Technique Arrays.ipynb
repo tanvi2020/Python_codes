{
 "cells": [
  {
   "cell_type": "markdown",
   "id": "5ce04462",
   "metadata": {},
   "source": [
    "# Finding a Pair with a Specific Sum "
   ]
  },
  {
   "cell_type": "markdown",
   "id": "1a7ef744",
   "metadata": {},
   "source": [
    "1. Finding a Pair with a Specific Sum\n",
    "Scenario:\n",
    "You are organizing a party, and you want to give a gift to two guests whose ages add up to exactly 50. The list of guest ages is sorted. Find the two ages that sum up to 50.\n",
    "\n",
    "Input:\n",
    "ages = [15, 20, 25, 30, 35, 40]\n",
    "Target: 50\n",
    "\n",
    "Say suppose start =15 and end = 40 . The below code will check whether the addition of start+end matches the target . If \n",
    "the sum > target then we will reduce the end by sfiting it one position to the left direction but if the sum < target then we\n",
    "have to increase the value of the start by shifting it one position to the right . This required the array to be Sorted. "
   ]
  },
  {
   "cell_type": "code",
   "execution_count": 21,
   "id": "adf5aeb1",
   "metadata": {},
   "outputs": [
    {
     "data": {
      "text/plain": [
       "'The ages 15 and 35 sum up to 50'"
      ]
     },
     "execution_count": 21,
     "metadata": {},
     "output_type": "execute_result"
    }
   ],
   "source": [
    "class Gifts:\n",
    "    def twoages(self,ages,target):\n",
    "        start=0 \n",
    "       # print(start)\n",
    "        end=len(ages)-1\n",
    "       # print(end)\n",
    "        while start<end:\n",
    "            sum=ages[start]+ages[end] # sum = Addition of the start and end position values \n",
    "            if sum==target:\n",
    "                return f'The ages {ages[start]} and {ages[end]} sum up to {target}' # using return statement for the loop to stop at the first pair that matches target\n",
    "            if sum<target:\n",
    "                start+=1  # Increasing start value by1 by Shifting it to the right\n",
    "            else:\n",
    "                end-=1  # Decreasing end value by 1 by shifting it to the left\n",
    "        return None\n",
    "o=Gifts()\n",
    "o.twoages([15, 20, 25, 30, 35, 40],50)\n"
   ]
  },
  {
   "cell_type": "markdown",
   "id": "23a3468c",
   "metadata": {},
   "source": [
    "# Remove Duplicates from a Sorted Array "
   ]
  },
  {
   "cell_type": "markdown",
   "id": "bbd54519",
   "metadata": {},
   "source": [
    "2. Remove Duplicates from a Sorted Array\n",
    "Scenario:\n",
    "You run a bakery, and every day you receive a sorted list of customer IDs. \n",
    "You want to remove duplicate IDs from the list to keep track of unique customers.\n",
    "\n",
    "Input:\n",
    "customer_ids = [1, 1, 2, 3, 3, 4, 5, 5]\n",
    "Output: A list of unique customer IDs, maintaining the order.\n",
    "    \n",
    "For this questions we will maintain two pointer i and j, i will identify unique elements and j will be used to traverse the\n",
    "array . If i-value != j-value then increment i by 1 and set value at i = value of j . If the value of i and j matches then\n",
    "j will keep moving forward until i-value != j-value and once this is True then i will be again increment by one and the value\n",
    "of j will be copied in the new position of i. By doing this the unique elements will be shifted towards the left side of the \n",
    "array and the duplicates will go to the right. To extract only the unique elements, we will slice the array upto i+1 since i\n",
    "is the one maintaining unique elements. \n"
   ]
  },
  {
   "cell_type": "code",
   "execution_count": 5,
   "id": "85f310e8",
   "metadata": {},
   "outputs": [
    {
     "name": "stdout",
     "output_type": "stream",
     "text": [
      "[15, 20, 25, 30, 40]\n"
     ]
    }
   ],
   "source": [
    "class Duplicates:\n",
    "    def Bakery(self,arr):\n",
    "        if not arr:\n",
    "            return 'Please enter an array'\n",
    "        i=0\n",
    "        for j in range(1,len(arr)):  # j will traverse the array starting from 1 since i=0 \n",
    "            if arr[i]!=arr[j]: # if the value in i and j positions are different then\n",
    "                i+=1 # shift i by one postion \n",
    "                arr[i]=arr[j]  # update the value of j into i\n",
    "        return arr[:i+1]  #Slicing array to just keep the unique elemets\n",
    "        \n",
    "o = Duplicates()\n",
    "result = o.Bakery([15, 20, 20, 25, 30, 30, 40])\n",
    "print(result)  \n",
    "                "
   ]
  },
  {
   "cell_type": "markdown",
   "id": "0527dca9",
   "metadata": {},
   "source": [
    "# Move Zeroes to the End"
   ]
  },
  {
   "cell_type": "raw",
   "id": "fd782377",
   "metadata": {},
   "source": [
    "3. Move Zeroes to the End\n",
    "Scenario:\n",
    "You are managing an inventory system, and you have a list of item counts. Some items have zero stock, and you want to move all the zero-stock items to the end of the list while maintaining the relative order of the rest.\n",
    "\n",
    "Input:\n",
    "inventory = [5, 0, 3, 0, 12]\n",
    "Output: [5, 3, 12, 0, 0]\n",
    "\n"
   ]
  },
  {
   "cell_type": "code",
   "execution_count": 7,
   "id": "c42c41a3",
   "metadata": {},
   "outputs": [
    {
     "name": "stdout",
     "output_type": "stream",
     "text": [
      "[5, 3, 12, 0, 0]\n"
     ]
    }
   ],
   "source": [
    "class Inventory:\n",
    "    def zeros(self,arr):\n",
    "        i=0\n",
    "        for j in range(0,len(arr)):\n",
    "            if arr[j]!=0:\n",
    "                arr[i]=arr[j]\n",
    "                i+=1\n",
    "       # Fill the rest with zeros\n",
    "        for j in range(i, len(arr)):\n",
    "            arr[j] = 0\n",
    "\n",
    "        return arr\n",
    "    \n",
    "o=Inventory()\n",
    "result=o.zeros([5, 0, 3, 0, 12])\n",
    "print(result)"
   ]
  },
  {
   "cell_type": "markdown",
   "id": "04f70d62",
   "metadata": {},
   "source": [
    "# Valid Palindrome Scenario"
   ]
  },
  {
   "cell_type": "markdown",
   "id": "7cf44784",
   "metadata": {},
   "source": [
    "4. Valid Palindrome\n",
    "Scenario:\n",
    "Your friend sends you a message, and you want to check if the message is a palindrome after removing non-alphanumeric characters and ignoring case.\n",
    "\n",
    "Input:\n",
    "message = \"A man, a plan, a canal: Panama\"\n",
    "Output: True"
   ]
  },
  {
   "cell_type": "code",
   "execution_count": 11,
   "id": "4178e3c9",
   "metadata": {},
   "outputs": [
    {
     "name": "stdout",
     "output_type": "stream",
     "text": [
      "True\n",
      "False\n"
     ]
    }
   ],
   "source": [
    "def palindrome(str):\n",
    "    new=''.join([x.lower() for x in str if x.isalnum()])\n",
    "    return new==new[::-1]\n",
    "print(palindrome(\"A man, a plan, a canal: Panama\"))\n",
    "print(palindrome(\"Spill the tea\"))\n",
    "        "
   ]
  },
  {
   "cell_type": "markdown",
   "id": "60d34638",
   "metadata": {},
   "source": [
    "#  Remove Duplicates from Sorted Array"
   ]
  },
  {
   "cell_type": "markdown",
   "id": "debb8130",
   "metadata": {},
   "source": [
    "Problem: Remove Duplicates from Sorted Array\n",
    "\n",
    "Scenario:\n",
    "You're managing a sorted inventory list, and some items are repeated. Your task is to remove the duplicates so that each item appears only once, and you need to do this with minimal space usage.\n",
    "\n",
    "How would you approach this using the two-pointer technique?\n",
    "What would the two pointers represent in this case?\n",
    "What are the edge cases to consider here?\n",
    "\n"
   ]
  },
  {
   "cell_type": "code",
   "execution_count": 26,
   "id": "605e3dc4",
   "metadata": {},
   "outputs": [
    {
     "data": {
      "text/plain": [
       "[1, 2, 3, 4, 5]"
      ]
     },
     "execution_count": 26,
     "metadata": {},
     "output_type": "execute_result"
    }
   ],
   "source": [
    "def fun(arr):\n",
    "    i=0\n",
    "    for j in range(1,len(arr)):\n",
    "        if arr[i]!=arr[j]:\n",
    "            i+=1\n",
    "            arr[i]=arr[j]\n",
    "    return arr[:i+1]\n",
    "\n",
    "fun([1,2,3,3,3,4,5])\n",
    "    "
   ]
  },
  {
   "cell_type": "markdown",
   "id": "3b8b3062",
   "metadata": {},
   "source": [
    "# Rotate the playlist so that it begins from a given position k"
   ]
  },
  {
   "cell_type": "markdown",
   "id": "f9bc8b00",
   "metadata": {},
   "source": [
    "You are managing a playlist for a party. The playlist is a list of songs, and the DJ wants to start the list from a specific song and continue in order. You need to rotate the playlist so that it begins from a given position k.\n",
    "\n",
    "Example:\n",
    "Input: playlist = [1, 2, 3, 4, 5, 6, 7], k = 3\n",
    "Output: [4, 5, 6, 7, 1, 2, 3]\n",
    "    \n",
    "Using two pointers \n",
    "i and k for this problem is a good start, but here's how you'd approach it conceptually:\n",
    "\n",
    "Pointer \n",
    "i: Starts at the beginning of the array (index 0).\n",
    "Pointer \n",
    "k: Points to the index where the rotation should start (given in the problem).\n",
    "Approach:\n",
    "Step 1: Split the array into two parts: one from the start to k−1 and the other from k to the end.\n",
    "Step 2: Rearrange these two parts so that the second part comes first, followed by the first part.\n",
    "If you try to directly \"rotate\" using pointers, you might need extra logic to move elements one by one, \n",
    "which is less efficient. Instead, you can simply slice and rearrange "
   ]
  },
  {
   "cell_type": "code",
   "execution_count": 27,
   "id": "f06b8534",
   "metadata": {},
   "outputs": [
    {
     "name": "stdout",
     "output_type": "stream",
     "text": [
      "first_part =  [1, 2, 3]\n",
      "second_part =  [4, 5]\n",
      "[4, 5, 1, 2, 3]\n"
     ]
    }
   ],
   "source": [
    "arr = [1, 2, 3, 4, 5]\n",
    "k = 3\n",
    "first_part=arr[0:3]\n",
    "second_part=arr[3:]\n",
    "print('first_part = ',first_part)\n",
    "print('second_part = ',second_part)\n",
    "arr=second_part+first_part\n",
    "print(arr)"
   ]
  },
  {
   "cell_type": "markdown",
   "id": "21715536",
   "metadata": {},
   "source": [
    "# Two Sum II - Input Array Is Sorted"
   ]
  },
  {
   "cell_type": "raw",
   "id": "4c118d8b",
   "metadata": {},
   "source": [
    "Given a 1-indexed array of integers numbers that is already sorted in non-decreasing order, find two numbers such that they add up to a specific target number. Let these two numbers be numbers[index1] and numbers[index2] where 1 <= index1 < index2 <= numbers.length.\n",
    "\n",
    "Return the indices of the two numbers, index1 and index2, added by one as an integer array [index1, index2] of length 2.\n",
    "\n",
    "The tests are generated such that there is exactly one solution. You may not use the same element twice.\n",
    "\n",
    "Your solution must use only constant extra space.\n",
    "\n",
    " \n",
    "\n",
    "Example 1:\n",
    "\n",
    "Input: numbers = [2,7,11,15], target = 9\n",
    "Output: [1,2]\n",
    "Explanation: The sum of 2 and 7 is 9. Therefore, index1 = 1, index2 = 2. We return [1, 2].\n",
    "Example 2:\n",
    "\n",
    "Input: numbers = [2,3,4], target = 6\n",
    "Output: [1,3]\n",
    "Explanation: The sum of 2 and 4 is 6. Therefore index1 = 1, index2 = 3. We return [1, 3].\n",
    "Example 3:\n",
    "\n",
    "Input: numbers = [-1,0], target = -1\n",
    "Output: [1,2]\n",
    "Explanation: The sum of -1 and 0 is -1. Therefore index1 = 1, index2 = 2. We return [1, 2].\n",
    " \n",
    "\n",
    "Constraints:\n",
    "\n",
    "2 <= numbers.length <= 3 * 104\n",
    "-1000 <= numbers[i] <= 1000\n",
    "numbers is sorted in non-decreasing order.\n",
    "-1000 <= target <= 1000\n",
    "The tests are generated such that there is exactly one solution."
   ]
  },
  {
   "cell_type": "code",
   "execution_count": 35,
   "id": "361a93e4",
   "metadata": {},
   "outputs": [
    {
     "name": "stdout",
     "output_type": "stream",
     "text": [
      "[0, 1]\n",
      "None\n",
      "[0, 1]\n"
     ]
    }
   ],
   "source": [
    "class Solution:\n",
    "    def twoSum(self, nums, target):\n",
    "        left=0\n",
    "        right=len(nums)-1\n",
    "        while left<right:\n",
    "            sum=nums[left]+nums[right]\n",
    "            if sum==target:\n",
    "                return [left,right]\n",
    "            if sum<target:\n",
    "                left+=1\n",
    "            else:\n",
    "                right-=1\n",
    "o=Solution()\n",
    "case1=o.twoSum([2,7,11,15],9)\n",
    "case2=o.twoSum([[3,2,4]],6)\n",
    "case3=o.twoSum([3,3],6)  \n",
    "print(case1)\n",
    "print(case2)\n",
    "print(case3)"
   ]
  },
  {
   "cell_type": "code",
   "execution_count": 12,
   "id": "19ae256a",
   "metadata": {},
   "outputs": [
    {
     "name": "stdout",
     "output_type": "stream",
     "text": [
      "[1, 2]\n"
     ]
    }
   ],
   "source": [
    "def play(arr,target):\n",
    "    h={}\n",
    "    for i in range(len(arr)):\n",
    "        complement=target-arr[i]\n",
    "        if complement in h :\n",
    "            return [h[complement],i]\n",
    "        else:\n",
    "            h[arr[i]]=i\n",
    "print(play([3,2,4],6))\n",
    "            \n",
    "        "
   ]
  },
  {
   "cell_type": "code",
   "execution_count": 43,
   "id": "8a5e5acf",
   "metadata": {},
   "outputs": [
    {
     "name": "stdout",
     "output_type": "stream",
     "text": [
      "[1, 2]\n",
      "[0, 1]\n",
      "[0, 1]\n"
     ]
    }
   ],
   "source": [
    "def fun(arr, target):\n",
    "    h = {}  # Initialize the hashmap outside the loop\n",
    "    for i in range(len(arr)):\n",
    "        complement = target - arr[i]\n",
    "        \n",
    "        if complement in h:  # Check if the complement exists in the hashmap\n",
    "            return [h[complement], i]  # Return the indices of the pair\n",
    "        else:\n",
    "            h[arr[i]] = i  # Store the current element and its index in the hashmap\n",
    "\n",
    "print(fun([3, 2, 4], 6))  # Output should be [1, 2]\n",
    "print(fun([2,7,11,15],9))\n",
    "print(fun([3,3],6))"
   ]
  },
  {
   "cell_type": "code",
   "execution_count": null,
   "id": "218a3fae",
   "metadata": {},
   "outputs": [],
   "source": [
    "Here are some two-pointer technique problems for practice:\n",
    "\n",
    "Pair with Target Sum:\n",
    "Given a sorted array, find two numbers that sum up to a given target.\n",
    "\n",
    "Remove Duplicates:\n",
    "Remove duplicates from a sorted array in-place and return the length of the updated array.\n",
    "\n",
    "Move Zeroes:\n",
    "Move all zeroes to the end of the array while maintaining the relative order of non-zero elements.\n",
    "\n",
    "Triplets with Zero Sum:\n",
    "Find all unique triplets in the array that give a sum of zero.\n",
    "\n",
    "Container with Most Water:\n",
    "Given an array of heights, find the two lines that together with the x-axis form a container that holds the most water.\n",
    "\n",
    "Find the Closest Pair:\n",
    "Given two sorted arrays, find the pair of elements (one from each array) whose sum is closest to a given target.\n",
    "\n",
    "Sort Colors (Dutch National Flag):\n",
    "Sort an array with elements 0, 1, and 2 without using extra space.\n",
    "\n",
    "Longest Substring with At Most Two Distinct Characters:\n",
    "Find the length of the longest substring with at most two distinct characters.\n",
    "\n",
    "Subarray with Given Sum:\n",
    "Find the subarray with a given sum in a positive integer array.\n",
    "\n",
    "Minimum Difference Pair:\n",
    "Find the pair of elements (from two arrays) with the smallest absolute difference."
   ]
  },
  {
   "cell_type": "markdown",
   "id": "37b9c1da",
   "metadata": {},
   "source": [
    "# Triplets with Zero Sum"
   ]
  },
  {
   "cell_type": "raw",
   "id": "974ceb69",
   "metadata": {},
   "source": [
    "\t\t\t\n",
    "\t\t1. First, we sort the array in ascending order. This helps us use the two-pointer technique effectively, as the array is           now ordered.\n",
    "\t\t2. We pick one element at a time (arr[i]) to be the first element of the triplet. This element is fixed for now, and we            will look for two other numbers (using pointers) to complete the triplet. Those will be left and right. \n",
    "\t\t3. If the current number arr[i] is the same as the previous number, we skip it to avoid duplicate triplets. If arr[1] ==            arr[0], skip the iteration for i = 1.\n",
    "\t\t4. After fixing the first element, we use two pointers:\n",
    "\t\t\t• left: Starts from the next element (i + 1).\n",
    "\t\t\t• right: Starts from the last element of the array\n",
    "\t\t5. Then we calculate sum \n",
    "\t\tCalculate the sum of the three numbers:\n",
    "\t\ttotal = arr[i] + arr[left] + arr[right]\n",
    "\t\t6. The we chcek if Total is zero . If total == 0, it means we found a valid triplet!\n",
    "\t\tAdd the triplet [arr[i], arr[left], arr[right]] to the result list.\n",
    "\t\t7. Handle the Case Where Sum is Less or Greater Than Zero:\n",
    "\t\t\t• If total < 0:\n",
    "\t\t\t\t○ Increment the left pointer to increase the sum (since the array is sorted, moving left to the right increases                   the value).\n",
    "\t\t\t• If total > 0:\n",
    "\t\t\t\t○ Decrement the right pointer to decrease the sum (moving right to the left decreases the value).\n",
    "\t\t8. Skip Duplicate Values for Left and Right Pointers:\n",
    "\t\t\t○ If there are duplicate values for left or right, skip them to avoid adding the same triplet multiple times.\n",
    "\t\t\t○ Example: If arr[left] == arr[left + 1], increment left.\n",
    "\t\t9. Repeat the Process:\n",
    "\t\t\t○ Keep adjusting the left and right pointers until they cross (left >= right).\n",
    "\t\t\t○ Move to the next i and repeat the process until all triplets are checked.\n",
    "\t\t10. Return Result as answer\n"
   ]
  },
  {
   "cell_type": "code",
   "execution_count": 11,
   "id": "7d7cdcdc",
   "metadata": {},
   "outputs": [
    {
     "name": "stdout",
     "output_type": "stream",
     "text": [
      "[[-1, -1, 2], [-1, 0, 1]]\n"
     ]
    }
   ],
   "source": [
    "def threeSum(arr):\n",
    "    arr.sort()\n",
    "    n=len(arr)\n",
    "    result=[]  \n",
    "    for i in range(n-2):\n",
    "        if i>0 and arr[i]==arr[i-1]:\n",
    "            continue\n",
    "        left=i+1\n",
    "        right=n-1\n",
    "        while left<right:\n",
    "            sums=arr[i]+arr[left]+arr[right]\n",
    "            if sums<0:\n",
    "                left+=1\n",
    "            elif sums>0:\n",
    "                right-=1\n",
    "            else:\n",
    "                result.append([arr[i],arr[left],arr[right]])\n",
    "                left+=1\n",
    "                right-=1\n",
    "                while left<right and arr[left]==arr[left-1]:\n",
    "                    left+=1\n",
    "                while left<right and arr[right]==arr[right+1]:\n",
    "                    right-=1\n",
    "    return result\n",
    "    \n",
    "print(threeSum([-1, 0, 1, 2, -1, -4]))           \n",
    "                           \n",
    "            "
   ]
  },
  {
   "cell_type": "code",
   "execution_count": null,
   "id": "bf343909",
   "metadata": {},
   "outputs": [],
   "source": [
    "\n",
    "    "
   ]
  },
  {
   "cell_type": "code",
   "execution_count": 10,
   "id": "a1ca55a1",
   "metadata": {},
   "outputs": [
    {
     "name": "stdout",
     "output_type": "stream",
     "text": [
      "None\n"
     ]
    }
   ],
   "source": [
    "def fun(arr):\n",
    "    sorteds=[]\n",
    "    result=[]\n",
    "    for i in range(len(arr)):\n",
    "        for j in range(i+1,len(arr)):\n",
    "            for k in range(j+1,len(arr)):\n",
    "                sums=arr[i]+arr[j]+arr[k]\n",
    "                if sums==0:\n",
    "                    result.append([arr[i],arr[j],arr[k]])\n",
    "    sorteds=result.sort()\n",
    "    return sorteds\n",
    "print(fun([-1, 0, 1, 2, -1, -4]))               "
   ]
  },
  {
   "cell_type": "markdown",
   "id": "258f94a0",
   "metadata": {},
   "source": [
    "# Container With Most Water"
   ]
  },
  {
   "cell_type": "raw",
   "id": "5b4ebd85",
   "metadata": {},
   "source": [
    "You are given an integer array height of length n. There are n vertical lines drawn such that the two endpoints of the ith line are (i, 0) and (i, height[i]).\n",
    "\n",
    "Find two lines that together with the x-axis form a container, such that the container contains the most water.\n",
    "\n",
    "Return the maximum amount of water a container can store.\n",
    "\n",
    "Input: height = [1,8,6,2,5,4,8,3,7]\n",
    "Output: 49\n",
    "Explanation: The above vertical lines are represented by array [1,8,6,2,5,4,8,3,7].\n",
    "In this case, the max area of water (blue section) the container can contain is 49.\n",
    "\n",
    "\n",
    "The basic logic behind this problem is that, we are given an array of heights consider them as the walls of the container,\n",
    "left wall and the right wall , the width of the container will be the difference between the right and the left wall . \n",
    "How much water will fit in the container will depend upon the bar with minimum height . So if left=4 and right=7 then \n",
    "the water can fit only upto level 4.The area of the container will be the product of width and Water_fit. \n",
    "We have to return the Max container that is the container which has the maximum area. \n",
    "Since the water_fit will depend upon the height of the minimum wall of either left or right, we will be chceking the heights of\n",
    "left and right walls , if left is minimum , increment left if right is minimum decrement right\n",
    "\n"
   ]
  },
  {
   "cell_type": "code",
   "execution_count": 22,
   "id": "5aad983a",
   "metadata": {},
   "outputs": [
    {
     "name": "stdout",
     "output_type": "stream",
     "text": [
      "49\n"
     ]
    }
   ],
   "source": [
    "# Brute Force Approach \n",
    "def Water_Container(height):\n",
    "    max_container=0\n",
    "    for i in range(len(height)):\n",
    "        for j in range(i+1,len(height)):\n",
    "            width=j-1\n",
    "            water_fit=min(height[i],height[j])\n",
    "            area=width*water_fit\n",
    "            max_container=max(max_container,area)\n",
    "    return max_container\n",
    "\n",
    "print(Water_Container([1,8,6,2,5,4,8,3,7]))"
   ]
  },
  {
   "cell_type": "code",
   "execution_count": 21,
   "id": "b7f44356",
   "metadata": {},
   "outputs": [
    {
     "name": "stdout",
     "output_type": "stream",
     "text": [
      "49\n"
     ]
    }
   ],
   "source": [
    "# Two pointer Approach\n",
    "def Water_container(height):\n",
    "    max_container=0  #To store the area of container with the maximum area\n",
    "    left=0\n",
    "    right=len(height)-1\n",
    "    while left<right:\n",
    "        width=right-left  # Width will be the difference between the left and right walls of the container \n",
    "        \n",
    "        # The height of the contianer will depend on the wall which is of minimum height \n",
    "        container_height=min(height[left],height[right]) \n",
    "        \n",
    "        area_of_container=width*container_height\n",
    "        \n",
    "        # Check for the wall with minimum height and shift left/right pointers accordingly .\n",
    "        if height[left]<height[right]:\n",
    "            left+=1\n",
    "        else:\n",
    "            right-=1\n",
    "        max_container=max(max_container,area_of_container) # Store the value of the max container \n",
    "    return max_container\n",
    "print(Water_container([1,8,6,2,5,4,8,3,7]))"
   ]
  },
  {
   "cell_type": "markdown",
   "id": "01a1d83a",
   "metadata": {},
   "source": [
    "# Find the Closest Pair"
   ]
  },
  {
   "cell_type": "raw",
   "id": "4b7f4e4f",
   "metadata": {},
   "source": [
    "Problem Statement: Find the Closest Pair\n",
    "You are given two sorted arrays and a target sum. The goal is to find one element from each array such that their sum is closest to the target.\n",
    "\n",
    "Example:\n",
    "Input:\n",
    "Array 1: [1, 4, 6]\n",
    "Array 2: [3, 8, 10]\n",
    "Target: 14\n",
    "Output:\n",
    "Closest Pair: (4, 10)\n",
    "Explanation: The sum of 4 (from Array 1) and 10 (from Array 2) is 14, which exactly matches the target.\n",
    "Another Example:\n",
    "Array 1: [1, 3, 7, 10]\n",
    "\n",
    "Array 2: [2, 4, 9]\n",
    "\n",
    "Target: 13\n",
    "\n",
    "Closest Pair: (7, 4)\n",
    "Explanation:\n",
    "Possible sums are:\n",
    "\n",
    "1+4=5 (too low)\n",
    "3+4=7 (closer)\n",
    "7+4=11 (closer)\n",
    "10+4=14 (closer but not exact).\n",
    "The closest pair is (7, 4) with a sum of 11, closest to 13.\n",
    "\n",
    "Key Characteristics of the Problem:\n",
    "Two Input Arrays:\n",
    "\n",
    "Each array is sorted in ascending order.\n",
    "Target Sum:\n",
    "\n",
    "A given number that represents the \"desired\" sum.\n",
    "Objective:\n",
    "\n",
    "Find a pair (x, y) such that:\n",
    "x is from the first array.\n",
    "y is from the second array.\n",
    "The absolute difference between x + y and the target is the smallest among all pairs.\n",
    "Minimize: abs((x + y) - target).\n",
    "Constraints:\n",
    "\n",
    "Both arrays may have different lengths.\n",
    "The arrays may contain positive, negative, or zero values.\n",
    "Why Use the Two-Pointer Technique?\n",
    "Since the arrays are sorted:\n",
    "\n",
    "Start with one pointer (i) at the beginning of the first array and another pointer (j) at the end of the second array.\n",
    "The sorted order allows us to adjust the sum dynamically:\n",
    "If the current sum is less than the target, move the left pointer (i) forward to increase the sum.\n",
    "If the current sum is greater than the target, move the right pointer (j) backward to decrease the sum.\n",
    "This makes the approach efficient, with a time complexity of O(n + m), where n and m are the lengths of the two arrays.\n",
    "Steps to Solve:\n",
    "Initialize Pointers:\n",
    "\n",
    "Start i = 0 (beginning of Array 1) and j = len(Array2) - 1 (end of Array 2).\n",
    "Track the Closest Pair:\n",
    "\n",
    "Keep a variable closest_pair to store the pair with the closest sum to the target.\n",
    "Use another variable min_diff to store the smallest difference between the sum and the target.\n",
    "Calculate Sum and Difference:\n",
    "\n",
    "At every step, calculate the sum of the two elements: sum = arr1[i] + arr2[j].\n",
    "Calculate the absolute difference: diff = abs(target - sum).\n",
    "Update Closest Pair:\n",
    "\n",
    "If the diff is smaller than min_diff, update min_diff and set closest_pair = (arr1[i], arr2[j]).\n",
    "Adjust Pointers:\n",
    "\n",
    "If sum < target, increment i (move right in Array 1 to increase the sum).\n",
    "If sum > target, decrement j (move left in Array 2 to decrease the sum).\n",
    "Continue until i >= len(Array1) or j < 0.\n",
    "Return the Closest Pair:\n",
    "\n",
    "After completing the loop, return the closest_pair."
   ]
  },
  {
   "cell_type": "code",
   "execution_count": 5,
   "id": "8a60f796",
   "metadata": {},
   "outputs": [
    {
     "name": "stdout",
     "output_type": "stream",
     "text": [
      "(5, 30)\n"
     ]
    }
   ],
   "source": [
    "def ClosestPair(arr1,arr2,target):\n",
    " \n",
    "    left=0\n",
    "    right=len(arr2)-1\n",
    "    closest_pair=None # A variable to store the closest sum to the target\n",
    "    min_diff=float('inf') # to store the min difference between sum and target\n",
    "    while left<len(arr1) and right>=0:\n",
    "        sums=arr1[left]+arr2[right]\n",
    "        diff=abs(target-sums)\n",
    "        if diff<min_diff:\n",
    "            min_diff=diff\n",
    "            closest_pair=(arr1[left],arr2[right])\n",
    "        if sums<target:\n",
    "            left+=1\n",
    "        else:\n",
    "            right-=1\n",
    " \n",
    "    return closest_pair\n",
    "print(ClosestPair([1,2,3,4,5],[10,20,30,40,50],36))\n",
    "    "
   ]
  },
  {
   "cell_type": "code",
   "execution_count": 2,
   "id": "3621e0fe",
   "metadata": {},
   "outputs": [
    {
     "name": "stdout",
     "output_type": "stream",
     "text": [
      "(5, 30)\n"
     ]
    }
   ],
   "source": [
    "def ClosestPair(arr1, arr2, target):\n",
    "    left = 0\n",
    "    right = len(arr2) - 1\n",
    "    closest_pair = None  # Initialize closest_pair to None\n",
    "    min_diff = float('inf')  # Initialize min_diff to infinity\n",
    "\n",
    "    while left < len(arr1) and right >= 0:\n",
    "        sums = arr1[left] + arr2[right]\n",
    "        diff = abs(target - sums)\n",
    "\n",
    "        # Update closest_pair and min_diff if a smaller difference is found\n",
    "        if diff < min_diff:\n",
    "            min_diff = diff\n",
    "            closest_pair = (arr1[left], arr2[right])\n",
    "\n",
    "        # Move the pointers\n",
    "        if sums < target:\n",
    "            left += 1  # Increase the sum by moving left pointer\n",
    "        else:\n",
    "            right -= 1  # Decrease the sum by moving right pointer\n",
    "\n",
    "    return closest_pair\n",
    "\n",
    "# Example usage\n",
    "print(ClosestPair([1, 2, 3, 4, 5], [10, 20, 30, 40, 50], 36))"
   ]
  },
  {
   "cell_type": "markdown",
   "id": "dada365a",
   "metadata": {},
   "source": [
    "# Sort Colors (Dutch National Flag)"
   ]
  },
  {
   "cell_type": "raw",
   "id": "2ad5cca9",
   "metadata": {},
   "source": [
    "Sort Colors (Dutch National Flag):\n",
    "Sort an array with elements 0, 1, and 2 without using extra space.\n",
    "\n",
    "For this problem we will we given an array of 0's , 1's and 2's . Our goal is to sort the array elements without creating a new\n",
    "array . \n",
    "So for this problem we will be using three pointers : low mid and high . mid will be the pointer which won't move until and \n",
    "unless any swaps are done in left or right pointers . \n",
    "So our array will have the below basic structure \n",
    "--> low to low-1 will be all the 0's\n",
    "--> mid to mid-1 will be all the 1's\n",
    "--> mid to high will be all the Unsorted elements 0's 1's and 2's\n",
    "--> high+1 to n-1 will be all 2's where n is the size of the array\n",
    "intially keep low=mid=0 and  high=n-1\n",
    "Now we need to sort the elements so how will that structure look like? Below is its structure\n",
    "  00000        11111        010122       22222\n",
    "Low  Low-1   Mid  Mid-1  Mid   High    High+1 n-1\n",
    "What we need to do here is we need to swap the unsorted elements. But How? So 0's are low so they will go on the left\n",
    "1's will stay as it is and since 2's are high they will go to the right . \n",
    "\n",
    "Now what Happens if \n",
    "If mid==0  Swap(array[low],aray[mid]) and increment mid and low by 1\n",
    "if mid==1  Skip 1 and move to the next element by incrementing Mid \n",
    "If mid==2  Swap(array[high],array[mid]) and decrement high \n",
    "\n",
    "In the end return the array\n",
    "\n",
    "\n",
    "In this problem, we are given an array consisting of 0s, 1s, and 2s, and our task is to sort this array without using any extra space. The algorithm uses three pointers: low, mid, and high.\n",
    "\n",
    "Here's a breakdown of the steps:\n",
    "\n",
    "Pointer Initialization:\n",
    "\n",
    "low: Keeps track of the boundary for the 0s.\n",
    "mid: Keeps track of the current element being processed.\n",
    "high: Keeps track of the boundary for the 2s.\n",
    "Initially, set:\n",
    "\n",
    "low = 0\n",
    "mid = 0\n",
    "high = n - 1 (where n is the length of the array).\n",
    "Partitioning the Array: The idea is to move low, mid, and high pointers to partition the array into 3 sections:\n",
    "\n",
    "From the start to low - 1, the array should contain all the 0s.\n",
    "From low to mid - 1, the array should contain all the 1s.\n",
    "From mid to high, the array should contain unsorted elements (0s, 1s, or 2s).\n",
    "From high + 1 to the end of the array, the array should contain all the 2s.\n",
    "Swapping Logic: The algorithm runs in a single pass by adjusting the positions of low, mid, and high based on the value of array[mid]:\n",
    "\n",
    "If array[mid] == 0: Swap array[low] and array[mid], then increment both low and mid by 1 (since we have placed a 0 at the correct position).\n",
    "If array[mid] == 1: Just increment mid (since 1s are already in the right section).\n",
    "If array[mid] == 2: Swap array[high] and array[mid], then decrement high (since we need to move the 2 to the right section without changing mid).\n",
    "Termination Condition: The algorithm continues until mid exceeds high, which means all elements have been sorted into their correct sections."
   ]
  },
  {
   "cell_type": "code",
   "execution_count": 1,
   "id": "9fbe5488",
   "metadata": {},
   "outputs": [
    {
     "name": "stdout",
     "output_type": "stream",
     "text": [
      "[0, 0, 0, 0, 0, 1, 1, 1, 1, 2, 2]\n"
     ]
    }
   ],
   "source": [
    "def Colors(array):\n",
    "    low=0\n",
    "    mid=0\n",
    "    high=len(array)-1\n",
    "    while mid<=high:\n",
    "        if array[mid]==0:\n",
    "            array[low],array[mid]=array[mid],array[low]\n",
    "            mid+=1\n",
    "            low+=1\n",
    "        elif array[mid]==1:\n",
    "            mid+=1\n",
    "        else: # array[mid]=2\n",
    "            array[high],array[mid]=array[mid],array[high]\n",
    "            high-=1\n",
    "    return array\n",
    "\n",
    "print(Colors([0,1,1,0,1,2,1,2,0,0,0]))      "
   ]
  },
  {
   "cell_type": "code",
   "execution_count": null,
   "id": "8f88b2f9",
   "metadata": {},
   "outputs": [],
   "source": []
  },
  {
   "cell_type": "code",
   "execution_count": null,
   "id": "7fc76576",
   "metadata": {},
   "outputs": [],
   "source": []
  },
  {
   "cell_type": "code",
   "execution_count": null,
   "id": "8f94429c",
   "metadata": {},
   "outputs": [],
   "source": []
  },
  {
   "cell_type": "code",
   "execution_count": null,
   "id": "188158c0",
   "metadata": {},
   "outputs": [],
   "source": []
  },
  {
   "cell_type": "code",
   "execution_count": null,
   "id": "492cda81",
   "metadata": {},
   "outputs": [],
   "source": []
  },
  {
   "cell_type": "code",
   "execution_count": null,
   "id": "4ffbfe25",
   "metadata": {},
   "outputs": [],
   "source": []
  },
  {
   "cell_type": "code",
   "execution_count": null,
   "id": "43730323",
   "metadata": {},
   "outputs": [],
   "source": []
  },
  {
   "cell_type": "code",
   "execution_count": null,
   "id": "5d3d28a3",
   "metadata": {},
   "outputs": [],
   "source": []
  },
  {
   "cell_type": "code",
   "execution_count": null,
   "id": "2ab305fe",
   "metadata": {},
   "outputs": [],
   "source": []
  },
  {
   "cell_type": "code",
   "execution_count": null,
   "id": "e16410d3",
   "metadata": {},
   "outputs": [],
   "source": []
  },
  {
   "cell_type": "code",
   "execution_count": null,
   "id": "583a1bbd",
   "metadata": {},
   "outputs": [],
   "source": []
  },
  {
   "cell_type": "code",
   "execution_count": null,
   "id": "1ddb45d3",
   "metadata": {},
   "outputs": [],
   "source": []
  },
  {
   "cell_type": "code",
   "execution_count": null,
   "id": "621a1ec3",
   "metadata": {},
   "outputs": [],
   "source": []
  },
  {
   "cell_type": "code",
   "execution_count": null,
   "id": "ce7d3d54",
   "metadata": {},
   "outputs": [],
   "source": []
  },
  {
   "cell_type": "code",
   "execution_count": null,
   "id": "d6ba12d6",
   "metadata": {},
   "outputs": [],
   "source": []
  },
  {
   "cell_type": "code",
   "execution_count": null,
   "id": "ebfbae20",
   "metadata": {},
   "outputs": [],
   "source": []
  },
  {
   "cell_type": "code",
   "execution_count": null,
   "id": "af2761c9",
   "metadata": {},
   "outputs": [],
   "source": []
  },
  {
   "cell_type": "code",
   "execution_count": null,
   "id": "c3cf5c77",
   "metadata": {},
   "outputs": [],
   "source": []
  },
  {
   "cell_type": "code",
   "execution_count": null,
   "id": "a8ce8c24",
   "metadata": {},
   "outputs": [],
   "source": []
  },
  {
   "cell_type": "code",
   "execution_count": null,
   "id": "a8eae518",
   "metadata": {},
   "outputs": [],
   "source": []
  },
  {
   "cell_type": "code",
   "execution_count": null,
   "id": "a9d64823",
   "metadata": {},
   "outputs": [],
   "source": []
  },
  {
   "cell_type": "code",
   "execution_count": null,
   "id": "1858d79a",
   "metadata": {},
   "outputs": [],
   "source": []
  },
  {
   "cell_type": "code",
   "execution_count": null,
   "id": "81884920",
   "metadata": {},
   "outputs": [],
   "source": []
  },
  {
   "cell_type": "code",
   "execution_count": null,
   "id": "38c537b3",
   "metadata": {},
   "outputs": [],
   "source": []
  },
  {
   "cell_type": "code",
   "execution_count": null,
   "id": "17f8786d",
   "metadata": {},
   "outputs": [],
   "source": []
  },
  {
   "cell_type": "code",
   "execution_count": null,
   "id": "b6feb8da",
   "metadata": {},
   "outputs": [],
   "source": []
  }
 ],
 "metadata": {
  "kernelspec": {
   "display_name": "Python 3 (ipykernel)",
   "language": "python",
   "name": "python3"
  },
  "language_info": {
   "codemirror_mode": {
    "name": "ipython",
    "version": 3
   },
   "file_extension": ".py",
   "mimetype": "text/x-python",
   "name": "python",
   "nbconvert_exporter": "python",
   "pygments_lexer": "ipython3",
   "version": "3.9.13"
  }
 },
 "nbformat": 4,
 "nbformat_minor": 5
}
