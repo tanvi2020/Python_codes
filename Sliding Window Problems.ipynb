{
 "cells": [
  {
   "cell_type": "markdown",
   "id": "ad80e3b4",
   "metadata": {},
   "source": [
    "# find the maximum sum of elements in a fixed-size sliding window"
   ]
  },
  {
   "cell_type": "raw",
   "id": "74b246fe",
   "metadata": {},
   "source": [
    "\tPseudocode :\n",
    "\t1. Problem Statement :You have an array arr, a window size k, and need to find the maximum sum of elements in a fixed-size sliding window.\n",
    "\t2. Initialization:\n",
    "\t\t○ Define two pointers: i (start of the window) and j (end of the window), both starting at 0.\n",
    "\t\t○ Define sum to keep track of the sum of the current window, initialized to 0.\n",
    "\t\t○ Define mx to track the maximum sum found so far, initialized to a very small value or 0.We start by setting mx to a very small number (-inf) to ensure that any sum will be larger initially.\n",
    "\t3. Sliding Window Loop:\n",
    "\t\t○ Condition: Use while j < len(arr) to iterate until the end of the array.\n",
    "\t\t○ Expand the Window: Add arr[j] to sum.\n",
    "\t4. Window Size Check:\n",
    "\t\t○ If j - i + 1 < k: Increment j to expand the window.\n",
    "\t\t○ If j - i + 1 == k:\n",
    "\t\t\t§ Update the maximum sum: mx = max(mx, sum).\n",
    "\t\t\t§ Shrink the window from the left: Subtract arr[i] from sum, then increment i.\n",
    "\t\t\t§ Slide the window forward: Increment j.\n"
   ]
  },
  {
   "cell_type": "code",
   "execution_count": 1,
   "id": "16b3f2f3",
   "metadata": {},
   "outputs": [
    {
     "name": "stdout",
     "output_type": "stream",
     "text": [
      "18\n"
     ]
    },
    {
     "data": {
      "text/plain": [
       "18"
      ]
     },
     "execution_count": 1,
     "metadata": {},
     "output_type": "execute_result"
    }
   ],
   "source": [
    "def slide(arr,k):\n",
    "    i=0 # i points to the start window\n",
    "    j=0  # j points to the end of the window\n",
    "    mx=float('-inf')  # initializing mx to a very small value < 0 \n",
    "    sums=0  # to store the sum of elements in the current window\n",
    "    while j<len(arr):\n",
    "        sums=sums+arr[j]  # Add current element to the sum\n",
    "        if j-i+1<k:  # If window size is less than k, expand the window\n",
    "            j+=1  # By Incrementing j by 1\n",
    "        elif j-i+1==k: # If window size is equal to k\n",
    "            mx=max(mx,sums)  # Then Update the maximum sum\n",
    "            sums -= arr[i]  # Remove the element going out of the window that is i element \n",
    "            i+=1  # Slide the window by increment i and j by 1 \n",
    "            j+=1\n",
    "    print(mx)\n",
    "\n",
    "slide([1,2,3,4,5,6,7],3)\n",
    "\n",
    "\n",
    "  \n",
    "def Brute_slide(arr,k):\n",
    "    maximum=float('-inf')\n",
    "    for i in range(len(arr)-k+1):  # This loop ensures that the window does not exceed the array size \n",
    "        sums=0\n",
    "        for j in range(i,i+k): # This loop will calculate the sum of a window by iterating over next k elements starting from i\n",
    "            sums=sums+arr[j]\n",
    "        maximum=max(maximum,sums)\n",
    "    return maximum\n",
    "Brute_slide([1,2,3,4,5,6,7],3)\n",
    "\n"
   ]
  },
  {
   "cell_type": "markdown",
   "id": "9873b1d2",
   "metadata": {},
   "source": [
    "# find first negative number in every window size K"
   ]
  },
  {
   "cell_type": "raw",
   "id": "ace250bd",
   "metadata": {},
   "source": [
    "# Problem : To find first negative number in every window size K \n",
    "\n",
    "1. To approach this kind of problem , I will require four things , i=0 , j=0 , an empty list to store all the negative values \n",
    "    of the array list1=[] , an empty vector which will store the first negative number from every window \n",
    "2. while j<len(arr):\n",
    "    Since the loop should iterate until the end of the array\n",
    "3. Append all the negative elements in the array into the empty list.SO list1 will have all the negative elements contained\n",
    "    in the array. \n",
    "    if arr[j]<0:\n",
    "        list1.append(arr[j])\n",
    "4. To check if the window size matches to K (the specified window size):\n",
    "    if j-i+1<k:\n",
    "        j+=1   \n",
    "        Increment j by 1 until the window size does not match with k\n",
    "    elif j-i+1==k:  If window size matches k \n",
    "        Task 1: Check if List1 is empty or Not . If not Empty Find the first negative number of window size k from the list1. It will be the First element in list1. Store it in the empty Vector . Else append 0 in V.\n",
    "        if List1:\n",
    "            V.append(list1[0])\n",
    "        else:\n",
    "            v.append(0)\n",
    "        Task 2: Delete the previous element calculation before shifting the window .So here if the ith array element matches with the 0th element in the list1, then pop that element from list1.\n",
    "            if arr[i] == list1[0]:\n",
    "                list1.pop(0)\n",
    "        Task 3: Slide the Window forward by incrementing i and j by 1\n",
    "                i+=1\n",
    "                j+=1        "
   ]
  },
  {
   "cell_type": "code",
   "execution_count": 2,
   "id": "97437bd0",
   "metadata": {},
   "outputs": [
    {
     "name": "stdout",
     "output_type": "stream",
     "text": [
      "[-1, -3, -3, -4]\n",
      "[0, 0, 0, 0]\n"
     ]
    }
   ],
   "source": [
    "def slide_Negative(arr,k):\n",
    "    i=0\n",
    "    j=0\n",
    "    list1=[]\n",
    "    v=[]\n",
    "    while j<len(arr):\n",
    "        if arr[j]<0:\n",
    "            list1.append(arr[j])\n",
    "        if j-i+1<k:\n",
    "            j+=1\n",
    "        elif j-i+1==k:\n",
    "            # Find the first negative element of a window\n",
    "            if list1:\n",
    "                v.append(list1[0])\n",
    "            else:\n",
    "                v.append(0)  # No negative in the window\n",
    "                \n",
    "            # pop the previous ith element before sliding the window\n",
    "            if list1 and arr[i]==list1[0]:\n",
    "                list1.pop(0)\n",
    "            # Sliding the window \n",
    "            i+=1\n",
    "            j+=1\n",
    "    return v\n",
    "    \n",
    "print(slide_Negative([-1, 2, -3, -4, 5, -6], 3))  # Expected Output: [-3, -3, -4, -6]\n",
    "print(slide_Negative([1, 2, 3, 4, 5, 6], 3))     # Expected Output: [0, 0, 0, 0]\n",
    "\n",
    "\n",
    "\n",
    "def Neg(arr,k):\n",
    "    list1=[]\n",
    "    v=[]\n",
    "    for i in range(len(arr)-k+1):\n",
    "        list1.append(arr[i])\n",
    "        for j in range(i,k+1):\n",
    "            v.append(list1[0])\n",
    "            if arr[i] and list1==list[0]:\n",
    "                list1.pop(0)\n",
    "    return v \n",
    "        "
   ]
  },
  {
   "cell_type": "markdown",
   "id": "ba935444",
   "metadata": {},
   "source": [
    "# Count Occureneces of Anagrams "
   ]
  },
  {
   "cell_type": "raw",
   "id": "6d9cc139",
   "metadata": {},
   "source": [
    "Count Occureneces of Anagrams \n",
    "Problem Statement discription : SO in this problem I will be given a string and a substring . And I will be asked to count the number of occurrences of the anagrams of that substring in the string . Also  before considering if the letters in a window are an anagram of the substring or not I will have to verify two things , First ---> the letters must be present in a continuous order and Second ---> The quantity of letters in substring and the window in the String must be the same \n",
    "\t1. So here K which is length of window is not specified . So k=length(substring)\n",
    "\t2. In this case I will be initiating four variables : i=0,j=0,dictionary={},ans=0,count=0\n",
    "\t3. Here i and j will be iterating over the String . Dictionary={} will store the key value pair of the distinct letters and their quantity in the substring . And count will keep a track of the count of each distinct letter in the dictionary . So if \n",
    "\tDictionary={a:2,b:1,c:1} and if the characters in the String match with those in Dictionary then count will decrease by one per character . So if Dictionary{a}=0 then count will be decremented by 1. Count will be 0 when all a ,b,and c inside the dictionary will be 0.#Store the distinct letters and their quantity inside the dictionary and\n",
    "\t4. While j<len(String):\n",
    "\t\tIf String[j] is present in the dictionary :\n",
    "\t\t\tDecrement the count of that letter by 1 inside the dictionary \n",
    "\t\tIf count_of_letter_in_doctionary==0:\n",
    "\t\t\tCount--\n",
    "\t5. Now these calculations must go until the window size matches . So if \n",
    "\tIf (j-i+1<k):\n",
    "\t\tj+=1\n",
    "\tElif(j-i+1==k):\n",
    "\t\tCheck if count has become 0 . If the count of any letter in the dictionary will be 1 then the Count won't become 0 , since the letters in the window won't be an anagram of the substring\n",
    "\t\tif count==0:\n",
    "\t\t\tAns+=1\n",
    "\t\t# then before sliding the window I will have to erase the previous calculations for I so,\n",
    "\t\tIf String[i] present in dictionary :\n",
    "\t\t\tCount+=1\n",
    "\t\t# Then sliding the window forward by incrementing I and j \n",
    "\t\ti+=1\n",
    "\t\tj+=1\n",
    "\t6. Return Ans . Ans will contain the count of occurrences of anagrams \n",
    "    \n",
    "    \n",
    "Pseudocode\n",
    "Initialization\n",
    "Let k = length(substring) (Window size = length of the substring).\n",
    "\n",
    "Initialize the following variables:\n",
    "\n",
    "i = 0, j = 0 (pointers for the sliding window).\n",
    "dictionary = {} (store character counts of the substring).\n",
    "count = total number of distinct characters in the substring.\n",
    "ans = 0 (stores the number of anagrams found).\n",
    "Populate dictionary with character frequencies of the substring.\n",
    "\n",
    "Sliding Window Logic\n",
    "Start a loop: while j < len(String):\n",
    "If String[j] is in dictionary:\n",
    "Decrement its count in dictionary.\n",
    "If dictionary[String[j]] == 0, decrement count by 1.\n",
    "Check Window Size\n",
    "If j - i + 1 < k:\n",
    "\n",
    "Increment j (expand the window).\n",
    "If j - i + 1 == k (window size equals k):\n",
    "\n",
    "Check for anagram:\n",
    "\n",
    "If count == 0, increment ans (found an anagram).\n",
    "Before sliding the window:\n",
    "\n",
    "If String[i] is in dictionary:\n",
    "Increment its count in dictionary.\n",
    "If dictionary[String[i]] == 1 (i.e., was zero before), increment count.\n",
    "Slide the window:\n",
    "\n",
    "Increment both i and j.\n",
    "Final Step\n",
    "After the loop ends, return ans (total anagrams found)."
   ]
  },
  {
   "cell_type": "code",
   "execution_count": 3,
   "id": "ed31637f",
   "metadata": {},
   "outputs": [
    {
     "name": "stdout",
     "output_type": "stream",
     "text": [
      "count= 3\n",
      "Count of Anagrams= 4\n"
     ]
    }
   ],
   "source": [
    "def Anagrams(string,sub):\n",
    "    # Initializing the variables \n",
    "    k=len(sub) # k ie. window size =len(substring)\n",
    "    # i and j pointers for sliding over the window\n",
    "    i=0  \n",
    "    j=0\n",
    "    # A dictionary to store key value pair of distinct charachter and thier count in k\n",
    "    d={}\n",
    "    count=0  # The count variable will keep track of how many distinct letters in the dictionary still need to match their required frequency in the sliding window.\n",
    "    #Initially, it should be set to the number of distinct keys in the dictionary.\n",
    "    ans=0   # Will store the number of occurrences of anagrams in a String\n",
    "    \n",
    "    # A loop to itertate through the sub to populate the current charachter frequency inside the dictionary d \n",
    "    for char in sub:\n",
    "        d[char]=d.get(char,0)+1 #IF char is already in substr increment its value 0+1=1 if its not present then set default value 0\n",
    "    count=len(d)\n",
    "    print('count=',count)\n",
    "    \n",
    "    #Check if current char string[j] is present in d and adjust count accordingly\n",
    "    while j<len(string):\n",
    "        if string[j] in d: # Check if the character exists in the dictionary\n",
    "            d[string[j]]-=1  # If it is present decrement count of j by 1 in d\n",
    "            if d[string[j]]==0:  # If count[j] in d ==0 then decrement the count by 1\n",
    "                count-=1 \n",
    "        \n",
    "        # Check if j-i+1 matches with window size k\n",
    "        if j-i+1<k:  \n",
    "            j+=1  # If its less then increment j by 1\n",
    "            \n",
    "        # Else if its equal\n",
    "        elif j-i+1==k:\n",
    "            # Check if Check if count == 0 indidcating that its an anagram\n",
    "            if count==0:\n",
    "                ans+=1\n",
    "             # Now slide the window forward\n",
    "            # First remove the previous calculations of the character at the i-th position (i.e., string[i])\n",
    "            if string[i] in d :\n",
    "                d[string[i]]+=1  # increment the count back in d \n",
    "                if d[string[i]]==1:\n",
    "                    count+=1   # If we add back a character, we need to increase count as well\n",
    "            \n",
    "            # SLide the window\n",
    "            i+=1\n",
    "            j+=1\n",
    "    return f'Count of Anagrams= {ans}' \n",
    "    \n",
    "result=Anagrams('abcbaccab','abc')\n",
    "print(result)    "
   ]
  },
  {
   "cell_type": "code",
   "execution_count": 4,
   "id": "db2bd916",
   "metadata": {},
   "outputs": [
    {
     "name": "stdout",
     "output_type": "stream",
     "text": [
      "Window starting at index 0: 1 + 2 + 3 = 6\n",
      "Current max sum: 6\n",
      "Window starting at index 1: 2 + 3 + 4 = 9\n",
      "Current max sum: 9\n",
      "Window starting at index 2: 3 + 4 + 5 = 12\n",
      "Current max sum: 12\n",
      "Maximum SUm= 12\n"
     ]
    }
   ],
   "source": [
    "# Brute force Approach for Finding MAximum Sum Problem\n",
    "def fun(arr,k):\n",
    "    i=0\n",
    "    j=0\n",
    "    \n",
    "    mx=float('-inf')\n",
    "    for i in range((len(arr)-k)+1):\n",
    "        sum=0\n",
    "        print(f'Window starting at index {i}:', end=\" \")\n",
    "        for j in range(i,i+k):\n",
    "            sum+=arr[j]\n",
    "            print(arr[j], end=\" + \" if j < i + k - 1 else f\" = {sum}\\n\")\n",
    "        mx=max(mx,sum)\n",
    "        print(f'Current max sum: {mx}')\n",
    "    return mx\n",
    "print('Maximum SUm=',fun([1,2,3,4,5],3))"
   ]
  },
  {
   "cell_type": "markdown",
   "id": "e6548c3e",
   "metadata": {},
   "source": [
    "# Find Maximums of all subarrays of size K"
   ]
  },
  {
   "cell_type": "code",
   "execution_count": 5,
   "id": "b15b6a42",
   "metadata": {},
   "outputs": [],
   "source": [
    "# How to identify that this is a slding window problem? I am given an Arra"
   ]
  },
  {
   "cell_type": "code",
   "execution_count": 6,
   "id": "21a7dd25",
   "metadata": {},
   "outputs": [
    {
     "name": "stdout",
     "output_type": "stream",
     "text": [
      "[-1]\n",
      "[-1, 2]\n",
      "[-1, 2, 3]\n",
      "maximum= 3\n",
      "[2]\n",
      "[2, 3]\n",
      "[2, 3, -4]\n",
      "maximum= 3\n",
      "[3]\n",
      "[3, -4]\n",
      "[3, -4, -5]\n",
      "maximum= 3\n",
      "[-4]\n",
      "[-4, -5]\n",
      "[-4, -5, 6]\n",
      "maximum= 6\n",
      "[-5]\n",
      "[-5, 6]\n",
      "[-5, 6, -8]\n",
      "maximum= 6\n",
      "[6]\n",
      "[6, -8]\n",
      "[6, -8, 7]\n",
      "maximum= 7\n",
      "[3, 3, 3, 6, 6, 7]\n"
     ]
    }
   ],
   "source": [
    "# Brute Force Approach to Find Maximums of all subarrays of size K\n",
    "def fun(arr,k):\n",
    "    i=0\n",
    "    j=0\n",
    "    v=[]\n",
    "    maxi=0\n",
    "    for i in range((len(arr)-k)+1):\n",
    "        list1=[]\n",
    "        for j in range(i,i+k):\n",
    "            list1.append(arr[j])\n",
    "            print(list1)\n",
    "        maxi=max(list1)\n",
    "        print('maximum=',maxi)\n",
    "        v.append(maxi)\n",
    "        \n",
    "    return v\n",
    "print(fun([-1,2,3,-4,-5,6,-8,7],3))        \n",
    "            \n",
    "        "
   ]
  },
  {
   "cell_type": "code",
   "execution_count": 7,
   "id": "a47e3c81",
   "metadata": {},
   "outputs": [
    {
     "name": "stdout",
     "output_type": "stream",
     "text": [
      "Sliding Window Approach\n",
      "**************************** Result 1 *******************************\n",
      "[-1]\n",
      "[-1, 2]\n",
      "[-1, 2, 3]\n",
      "3\n",
      "[2, 3, -4]\n",
      "3\n",
      "[3, -4, -5]\n",
      "3\n",
      "[-4, -5, 6]\n",
      "6\n",
      "[-5, 6, -8]\n",
      "6\n",
      "[6, -8, 7]\n",
      "7\n",
      "[3, 3, 3, 6, 6, 7]\n",
      "**************************** Result 2 *******************************\n",
      "[9]\n",
      "[9, 5]\n",
      "[9, 5, 7]\n",
      "9\n",
      "[5, 7, 4]\n",
      "7\n",
      "[7, 4, 10]\n",
      "10\n",
      "[9, 7, 10]\n"
     ]
    }
   ],
   "source": [
    "print('Sliding Window Approach')\n",
    "def fun2(arr,k):\n",
    "    i=0\n",
    "    j=0\n",
    "    list1=[] # A list which will store only elements of window size k\n",
    "    maxi=0 # Maxi will store the max in list1\n",
    "    v=[] # A vector to store list of all maximum elements\n",
    "    while j<len(arr):\n",
    "        list1.append(arr[j])\n",
    "        print(list1)\n",
    "        if j-i+1<k:\n",
    "            j+=1\n",
    "        elif j-i+1==k:\n",
    "            maxi=max(list1)\n",
    "            print(maxi)\n",
    "            v.append(maxi)\n",
    "            list1.pop(0)  # Pop the previous ith element from the list before sliding the window\n",
    "            i+=1\n",
    "            j+=1\n",
    "    return v\n",
    "print('**************************** Result 1 *******************************')\n",
    "print(fun2([-1,2,3,-4,-5,6,-8,7],3))\n",
    "print('**************************** Result 2 *******************************')\n",
    "print(fun2([9,5,7,4,10],3))\n",
    "\n",
    "#The max(list1) operation runs in O(k) for each iteration. Since we calculate this for every window in the array,\n",
    "#the overall complexity becomes O(k⋅(n−k+1)),where n is the size of the array. For large values of k, this can be inefficient."
   ]
  },
  {
   "cell_type": "raw",
   "id": "358da185",
   "metadata": {},
   "source": [
    "\t1. How to identify that this is a sliding window problem?\n",
    "\t\ta. Given : An Array , a Window size k \n",
    "\t\tb.  Find the Max \n",
    "\t2. For this type of problem, I initially used a list[] to store only the elements in a window , then I used another variable maxi=max(list) to find the maximum of the list and v[] to store the maximum of each window. But this code was calculating the maximum for each and every window regardless whether the elements were of any future use of now . The Big O complexity of this code was O(k)\n",
    "\t3. To Optimize this solution , I used deque instead if list . Using a deque we can keep track of the indices of only useful elements and pop the elements which are of no further use from both the sides . \n",
    "\t\ta. First pop all the elements on the Left which are outside the current window \n",
    "\t\tb. Then pop all elements on the Right which are less than the current element\n",
    "\t\tc. Append the index of the current element in the deque\n",
    "\t\td. Only after window size k is reached , append the maximum element into v \n",
    "\t4. Pseudocode :\n",
    "\t\tn=len(arr)  ---> to store length of the array\n",
    "\t\tv=[]  --> to store maximum values \n",
    "\t\tDq=deque()  ---> to maintain indices of maximum values\n",
    "\t\tFor j in range(n):\n",
    "\t\t\tRemove elements on the left which are outside the window \n",
    "\t\t\tIf dq and dq[0]<window size j-k+1 :\n",
    "\t\t\t\tDq.popleft()\n",
    "\t\t\tIf the Elements on the right are greater than the current value\n",
    "\t\t\tIf  dq and arr[dq[-1]]>j : \n",
    "\t\t\tDq.pop\n",
    "\t\t\t\n",
    "\t\t\tAppend the index of the current value in deque :\n",
    "\t\t\tDq.append(j)\n",
    "\t\t\t\n",
    "\t\t\tAppend maximum element in v only if window size k is satisfied\n",
    "\t\t\tIf j>=k-1:\n",
    "\t\t\t\tv.append(arr[dq[0]])\n",
    "\t\tReturn the answer \n",
    "\t\tReturn v\n"
   ]
  },
  {
   "cell_type": "code",
   "execution_count": 8,
   "id": "6093b69b",
   "metadata": {},
   "outputs": [
    {
     "name": "stdout",
     "output_type": "stream",
     "text": [
      "[9, 6, 5, 3, 5]\n",
      "[3, 3, 3, 6, 6, 7]\n"
     ]
    }
   ],
   "source": [
    "# we can optimize it further to O(n)O(n)O(n) by using a Deque (Double-Ended Queue).\n",
    "# Instead of maintaining list1 and recalculating the maximum for every window, we use a deque to keep track of\n",
    "# indices of useful elements in the current window. This avoids repeatedly calculating the maximum.\n",
    "\n",
    "from collections import deque \n",
    "def optimize(arr,k):\n",
    "    n=len(arr)\n",
    "    dq=deque()\n",
    "    v=[]\n",
    "    for j in range(n):\n",
    "        # Remove all the elements which come outside the current window \n",
    "        if dq and dq[0]<j-k+1:\n",
    "            dq.popleft()\n",
    "    \n",
    "        # Remove elements which are smaller than the current value\n",
    "        while dq and arr[dq[-1]]<arr[j]: \n",
    "            dq.pop()\n",
    "            \n",
    "        # Append the index of the current element in the deque \n",
    "        dq.append(j)\n",
    "        \n",
    "        # Add the maximum for the current window to the result\n",
    "        if j>=k-1: #This checks if the first window of size k is complete. We only start adding maximum values to the result \n",
    "                    # after the window size is reached\n",
    "            v.append(arr[dq[0]])\n",
    "    return v\n",
    "print(optimize([9, 6, 5, 3, 2, 1, 5], 3))\n",
    "print(optimize([-1,2,3,-4,-5,6,-8,7],3))\n",
    "\n"
   ]
  },
  {
   "cell_type": "markdown",
   "id": "bdf6561f",
   "metadata": {},
   "source": [
    "# VARIABLE SIZE WINDOW PROBLEMS "
   ]
  },
  {
   "cell_type": "markdown",
   "id": "4406a4ba",
   "metadata": {},
   "source": [
    "# Find largest Subarray of sum K"
   ]
  },
  {
   "cell_type": "raw",
   "id": "5beadc7a",
   "metadata": {},
   "source": [
    "\t1. How to Identify a Variable size window problem :\n",
    "\t\ta. We will be given an array/string\n",
    "\t\tb. A value K which is sum/condition value will be given\n",
    "\t\tc. We will be asked to find a window which may vary \n",
    "\t2. In this problem I will define the following , I =0 j=0 to iterate over the array, sum=0 will store the sum of elements in array until it is equal to k , mx=0 will store the maximum window size .\n",
    "\t3. Pseudocode :\n",
    "\t\ti=0 \n",
    "\t\tj=0\n",
    "\t\tSum=0\n",
    "\t\tMx=0\n",
    "\t\tWhile j< len(arr):\n",
    "\t\t\tSum will be the sum of all jth elements \n",
    "\t\t\tSum=sum+arr[j]\n",
    "\t\t\tIf sum is less than k :\n",
    "\t\t\t\tIncrement j \n",
    "\t\t\t\tj+=1\n",
    "\t\t\tIf sum if equal to k:\n",
    "\t\t\t\tCheck if the window size is greater than the current window size in mx\n",
    "\t\t\t\tIf (j-i+1)>mx:\n",
    "\t\t\t\t\tMx=j-i+1\n",
    "                Increment j by 1\n",
    "\t\t\tIf the sum exceeds k :\n",
    "\t\t\t\tRemove all the ith elements until the sum becomes equal to k \n",
    "\t\t\t\tWhile sum>k:\n",
    "\t\t\t\t\tSum-=arr[i]\n",
    "            Return mx"
   ]
  },
  {
   "cell_type": "code",
   "execution_count": 9,
   "id": "0cc00eef",
   "metadata": {},
   "outputs": [
    {
     "name": "stdout",
     "output_type": "stream",
     "text": [
      "sum= 4\n",
      "If sums < k incremented value of j = 1\n",
      "sum= 5\n",
      "If sums == k value of j = 1\n",
      "If sums == k incremented value of j = 2\n",
      "sum= 6\n",
      "If sums > k value of i = 0\n",
      "If sums > k incremented value of i = 1\n",
      "If sums > k value of j = 3\n",
      "sum= 3\n",
      "If sums < k incremented value of j = 4\n",
      "sum= 5\n",
      "If sums == k value of j = 4\n",
      "If sums == k incremented value of j = 5\n",
      "sum= 8\n",
      "If sums > k value of i = 1\n",
      "If sums > k incremented value of i = 2\n",
      "If sums > k value of i = 2\n",
      "If sums > k incremented value of i = 3\n",
      "If sums > k value of i = 3\n",
      "If sums > k incremented value of i = 4\n",
      "If sums > k value of j = 6\n",
      "sum= 10\n",
      "If sums > k value of i = 4\n",
      "If sums > k incremented value of i = 5\n",
      "If sums > k value of i = 5\n",
      "If sums > k incremented value of i = 6\n",
      "If sums > k value of j = 7\n",
      "4\n"
     ]
    }
   ],
   "source": [
    "def Largest(arr,k):  # Given an array and a sum k \n",
    "    i=0\n",
    "    j=0\n",
    "    mx=0  # Will store the size of the largest window\n",
    "    sums=0  # will sum the elements until it equals to k \n",
    "    while j<len(arr): #since we want the loop to run only until the array size is reached\n",
    "        # Perform the Calculations\n",
    "        sums=sums+arr[j]\n",
    "        print('sum=',sums)\n",
    "        # Check if sum is less than k , if true then increment j\n",
    "        if sums<k:\n",
    "            j+=1\n",
    "            print('If sums < k incremented value of j =',j)\n",
    "        # Check if sum is equal to k and if the window size is greater than cyrrent value of mx then update mx with new size \n",
    "        elif sums==k:\n",
    "            if (j-i+1)>mx:\n",
    "                mx=(j-i+1)\n",
    "                print('If sums == k value of j =',j)\n",
    "                j+=1\n",
    "                print('If sums == k incremented value of j =',j)\n",
    "            # or mx=max(mx,(j-i+1))\n",
    "        # Check if the sum exceeds k . If the sum is greater than k then delete all the ith elements until the sum=k\n",
    "        elif sums>k:\n",
    "            while sums>k:\n",
    "                sums=sums-arr[i]\n",
    "                print('If sums > k value of i =',i)\n",
    "                i+=1\n",
    "                print('If sums > k incremented value of i =',i)\n",
    "            j+=1\n",
    "            print('If sums > k value of j =',j)\n",
    "    return mx\n",
    "            \n",
    "print(Largest([4,1,1,1,2,3,5],5))"
   ]
  },
  {
   "cell_type": "markdown",
   "id": "0fdf59d7",
   "metadata": {},
   "source": [
    "# Longest Substring with K unique characters"
   ]
  },
  {
   "cell_type": "raw",
   "id": "15520f25",
   "metadata": {},
   "source": [
    "In this question , we will be given a string and k which is count of unique characters that must be present in the substring..\n",
    "So if k=3 then the substring must have 3 unique characters only and the second condition is that that substring must be the \n",
    "largest among all other substrings having k unique characters . \n",
    "\n",
    "1. So for this problem I need to take the following inputs ---> a string and a count of unique characters k\n",
    "2. Output : Largest substring with k unique characters \n",
    "3. How to identify that this is a Variable sliding window problem? --> Given : A string and k | To Find: Largest substr(window)\n",
    "\n",
    "Pseudocode:\n",
    "    Let,\n",
    "    #To iterate over the string\n",
    "    i=0 \n",
    "    j=0 \n",
    "    \n",
    "    # To store the size of the largest window\n",
    "    mx=0  \n",
    "    \n",
    "    # A hashmap/ dictionary to keep a track of unique characters and thier count \n",
    "    d={}\n",
    "    \n",
    "    while j<length(string):  \n",
    "        #Update the dictionary with unique characters and thier respective counts \n",
    "        d[string[j]]=d.get(string[j],0)+1\n",
    "\n",
    "        # If length(d) is less than k then icrement j by 1\n",
    "        if len(d)<k:\n",
    "            j+=1\n",
    "        # else if the size of the dictionary equals k and condition of k unique characters is satisfied,store the window size \n",
    "          in mx \n",
    "            mx=max(mx,j-i+1)\n",
    "        #else if size > k then decrement the count of the ith char by 1 if count of ith char=0 then pop it . increment i and j \n",
    "            while len(d)>k:\n",
    "                d[string[i]]-=1\n",
    "                if d[string[i]]==0:\n",
    "                    d.pop(string[i])\n",
    "                i+=1  \n",
    "            j+=1\n",
    "            \n",
    "        # In the end return mx as the answer which will be the largest window with k unique characters \n"
   ]
  },
  {
   "cell_type": "code",
   "execution_count": 10,
   "id": "c1079bdb",
   "metadata": {},
   "outputs": [
    {
     "name": "stdout",
     "output_type": "stream",
     "text": [
      "8\n"
     ]
    }
   ],
   "source": [
    "def Largest_str(string,k):\n",
    "    i=0\n",
    "    j=0\n",
    "    mx=0  # To store size of the largest window\n",
    "    d={}  # A dictionary to keep track of count of each character\n",
    "    while j < len(string):\n",
    "        # Store the unique characters of the string along with their counts in the dictionary\n",
    "        d[string[j]]=d.get(string[j],0)+1\n",
    "        # Check if the size of the dictionary is less than k , If yes then increment j by 1\n",
    "        if len(d)<k:\n",
    "            j+=1\n",
    "        \n",
    "        # Once the size of the dictionary equals k and condition of k unique characters is satisfied,store the window size in mx\n",
    "        elif len(d)==k:\n",
    "            mx=max(mx,j-i+1)\n",
    "            j+=1  # increment j by 1 \n",
    "            \n",
    "        # If the size of dictionary exceeds k,decrement the count of ith character by 1 once the count becomes 0 pop the character\n",
    "        elif len(d)>k:\n",
    "            while len(d)>k:\n",
    "                d[string[i]]-=1\n",
    "                if d[string[i]]==0:\n",
    "                    d.pop(string[i])\n",
    "                i+=1  \n",
    "            j+=1\n",
    "    return mx\n",
    "print(Largest_str('aabcbbeecbaacc', 3))  # Output: 8   \n",
    "    "
   ]
  },
  {
   "cell_type": "markdown",
   "id": "4c67dc64",
   "metadata": {},
   "source": [
    "# Longest Substring without Repeating Character"
   ]
  },
  {
   "cell_type": "raw",
   "id": "09d7d030",
   "metadata": {},
   "source": [
    "For this type of question , we are given a String and are asked to satisfy two conditions :\n",
    "    1. The Substring of that string must be the longest (Longest Window)\n",
    "    2. The Substring should not have any repeating characters \n",
    "This question is similar to the previous question where we are asked to find the Longest Substring with k unique characters\n",
    "but the only difference here is that here we are not given the value of k. So what will be the value of k then?\n",
    "The answer to this is :\n",
    "    a. Say suppose a Substring of length 3 has 3 unique characters in it , in this case both the conditions in our problem \n",
    "       statement are satisfied \n",
    "    b. And Say if the length of substring is 3 but the unique characters are only 2 . in this case one / both of our conditions \n",
    "       might fail \n",
    "    So in the above two examples we get to know that, \n",
    "        number of unique values = size of the window \n",
    "        if 5 unique characters then size of window should also be 5    "
   ]
  },
  {
   "cell_type": "code",
   "execution_count": 11,
   "id": "46ae5fcc",
   "metadata": {},
   "outputs": [
    {
     "name": "stdout",
     "output_type": "stream",
     "text": [
      "6\n",
      "1\n",
      "8\n"
     ]
    }
   ],
   "source": [
    "def Longest_nonRepeating(string):\n",
    "    i=0\n",
    "    j=0\n",
    "    mx=0\n",
    "    d={}\n",
    "    while j<len(string):\n",
    "        # Update the dictionary with the unique characters and thier count\n",
    "        d[string[j]]=d.get(string[j],0)+1\n",
    "        \n",
    "        if len(d)==j-i+1:\n",
    "            mx=max(mx,j-i+1)\n",
    "            j+=1\n",
    "        elif len(d)<j-i+1:\n",
    "            while len(d)<j-i+1:\n",
    "                d[string[i]]-=1\n",
    "                if d[string[i]]==0:\n",
    "                    d.pop(string[i])\n",
    "                i+=1\n",
    "            j+=1\n",
    "    return  mx\n",
    "\n",
    "print(Longest_nonRepeating('abcdweewa'))         \n",
    "print(Longest_nonRepeating('aaaaaaaaaa'))\n",
    "print(Longest_nonRepeating('abcdefgh'))\n",
    "    \n",
    "    "
   ]
  },
  {
   "cell_type": "markdown",
   "id": "b0338792",
   "metadata": {},
   "source": [
    "# Minimum Window Substring "
   ]
  },
  {
   "cell_type": "raw",
   "id": "4bf4a9ff",
   "metadata": {},
   "source": [
    "Function MinimumWindowSubstring(string, sub):\n",
    "    Initialize a dictionary `d` to store the frequency of characters in `sub`\n",
    "    For each character `char` in `sub`:\n",
    "        d[char] = d.get(char, 0) + 1\n",
    "    \n",
    "    Initialize `required` = len(d)  # Number of unique characters in `sub`\n",
    "    Initialize `i = 0`, `j = 0`, `count = required`\n",
    "    Initialize `min_length = float('inf')` and `start = 0` for tracking the minimum window\n",
    "\n",
    "    While `j < len(string)`:\n",
    "        # Check if the current character is part of `sub`\n",
    "        If `string[j]` is in `d`:\n",
    "            d[string[j]] -= 1\n",
    "            If `d[string[j]] == 0`:  # Character is completely matched\n",
    "                count -= 1\n",
    "\n",
    "        # When all characters are matched\n",
    "        While `count == 0`:\n",
    "            # Update the minimum window length\n",
    "            If `j - i + 1 < min_length`:\n",
    "                min_length = j - i + 1\n",
    "                start = i  # Update the starting index of the minimum window\n",
    "            \n",
    "            # Shrink the window from the left\n",
    "            If `string[i]` is in `d`:\n",
    "                d[string[i]] += 1\n",
    "                If `d[string[i]] > 0`:  # Character is no longer fully matched\n",
    "                    count += 1\n",
    "            Increment `i` (move the left pointer forward)\n",
    "\n",
    "        Increment `j` (expand the window from the right)\n",
    "\n",
    "    If `min_length == float('inf')`:\n",
    "        Return \"\"  # No valid window found\n",
    "    Else:\n",
    "        Return `string[start:start + min_length]`"
   ]
  },
  {
   "cell_type": "code",
   "execution_count": 12,
   "id": "f42be522",
   "metadata": {},
   "outputs": [
    {
     "name": "stdout",
     "output_type": "stream",
     "text": [
      "tma\n"
     ]
    }
   ],
   "source": [
    "def Minimum(string,sub):\n",
    "    i=0\n",
    "    j=0\n",
    "    d={}\n",
    "    count=0\n",
    "    required_count=0\n",
    "    start=0  \n",
    "    min_length=float('inf')\n",
    "    # Update the dictionary with the chars in substring and thier respective count . This must be done before the loop since \n",
    "        #we don't want the count to get recalculated in each and every iteration. \n",
    "    for char in sub:\n",
    "        d[char]=d.get(char,0)+1\n",
    "    required_count=len(d)\n",
    "    count=required_count\n",
    "    while j<len(string):\n",
    "        # Check if j is in d , If yes then decrement j by 1 and if j==0 decrement count by 1\n",
    "        if string[j] in d :\n",
    "            d[string[j]]-=1\n",
    "            if d[string[j]]==0:\n",
    "                count-=1\n",
    "        \n",
    "        # If count becomes 0 , then updated the length of the minimum window in min_length\n",
    "        while count==0:\n",
    "            if j-i+1<min_length:\n",
    "                min_length=j-i+1\n",
    "                start=i\n",
    "        \n",
    "        # Check if ith element is in d . This step is done since we want to shrink the window .So here we need to pop ith values\n",
    "        # and move the window forward\n",
    "            if string[i] in d:\n",
    "                d[string[i]]+=1\n",
    "                if d[string[i]]>0:\n",
    "                    count+=1\n",
    "            i+=1\n",
    "        j+=1\n",
    "        \n",
    "    if min_length==float('inf'):\n",
    "        return ''\n",
    "    else:\n",
    "        return string[start:start+min_length]\n",
    "    \n",
    "print(Minimum('tmatatptmam','tma'))\n",
    "            \n",
    "            \n",
    "    "
   ]
  },
  {
   "cell_type": "markdown",
   "id": "0d041f95",
   "metadata": {},
   "source": [
    "# Longest Substring with At Most Two Distinct Character"
   ]
  },
  {
   "cell_type": "raw",
   "id": "cb57c80f",
   "metadata": {},
   "source": [
    "Longest Substring with At Most Two Distinct Characters:\n",
    "Find the length of the longest substring with at most two distinct characters.\n",
    "This is a Variable sliding window problem . The problem statement is similar to the problem staement of Longest Substring with\n",
    "K unique characters just that we have been specified here that k=2"
   ]
  },
  {
   "cell_type": "code",
   "execution_count": 1,
   "id": "55a040d4",
   "metadata": {},
   "outputs": [
    {
     "name": "stdout",
     "output_type": "stream",
     "text": [
      "4\n"
     ]
    }
   ],
   "source": [
    "def Longest(string):\n",
    "    i=0\n",
    "    j=0\n",
    "    mx=0\n",
    "    d={}\n",
    "    k=2  # Maximum number of distinct characters\n",
    "    while j<len(string):\n",
    "        d[string[j]]=d.get(string[j],0)+1\n",
    "        count=len(d)\n",
    "\n",
    "        # If count > k, shrink the window by moving 'i'\n",
    "        while count>k:\n",
    "            d[string[i]]-=1\n",
    "            if d[string[i]]==0:\n",
    "                d.pop(string[i])\n",
    "            i+=1\n",
    "            count = len(d)  # Recalculate count after shrinking the window\n",
    "            \n",
    "        # If count <= k, update the maximum length of the substring\n",
    "        mx = max(mx, j - i + 1)\n",
    "         \n",
    "        # Move 'j' forward\n",
    "        j+=1\n",
    "    return mx\n",
    "\n",
    "\n",
    "print(Longest('aabcaacb'))\n"
   ]
  },
  {
   "cell_type": "code",
   "execution_count": 1,
   "id": "5378c6a2",
   "metadata": {},
   "outputs": [
    {
     "name": "stdout",
     "output_type": "stream",
     "text": [
      "4\n"
     ]
    }
   ],
   "source": [
    "def Longest(string):\n",
    "    i = 0\n",
    "    j = 0\n",
    "    mx = 0\n",
    "    d = {}\n",
    "    k = 2  # Maximum number of distinct characters\n",
    "    while j < len(string):\n",
    "        d[string[j]] = d.get(string[j], 0) + 1\n",
    "        count = len(d)\n",
    "        \n",
    "        # If count > k, shrink the window by moving 'i'\n",
    "        while count > k:\n",
    "            d[string[i]] -= 1\n",
    "            if d[string[i]] == 0:\n",
    "                d.pop(string[i])\n",
    "            i += 1\n",
    "            count = len(d)  # Recalculate count after shrinking the window\n",
    "\n",
    "        # If count <= k, update the maximum length of the substring\n",
    "        mx = max(mx, j - i + 1)\n",
    "        \n",
    "        # Move 'j' forward\n",
    "        j += 1\n",
    "    \n",
    "    return mx\n",
    "\n",
    "\n",
    "print(Longest('aabcaacb'))  # This should now work correctly"
   ]
  },
  {
   "cell_type": "code",
   "execution_count": null,
   "id": "7f594ad8",
   "metadata": {},
   "outputs": [],
   "source": []
  },
  {
   "cell_type": "code",
   "execution_count": null,
   "id": "bf90c652",
   "metadata": {},
   "outputs": [],
   "source": []
  },
  {
   "cell_type": "code",
   "execution_count": null,
   "id": "859b9180",
   "metadata": {},
   "outputs": [],
   "source": []
  },
  {
   "cell_type": "code",
   "execution_count": null,
   "id": "767de52b",
   "metadata": {},
   "outputs": [],
   "source": []
  },
  {
   "cell_type": "code",
   "execution_count": null,
   "id": "cedc5a27",
   "metadata": {},
   "outputs": [],
   "source": []
  },
  {
   "cell_type": "code",
   "execution_count": null,
   "id": "bb63fe7f",
   "metadata": {},
   "outputs": [],
   "source": []
  },
  {
   "cell_type": "code",
   "execution_count": null,
   "id": "d2249757",
   "metadata": {},
   "outputs": [],
   "source": []
  },
  {
   "cell_type": "code",
   "execution_count": null,
   "id": "72b52574",
   "metadata": {},
   "outputs": [],
   "source": []
  },
  {
   "cell_type": "code",
   "execution_count": null,
   "id": "e499f4cd",
   "metadata": {},
   "outputs": [],
   "source": []
  },
  {
   "cell_type": "code",
   "execution_count": null,
   "id": "e8fcec0c",
   "metadata": {},
   "outputs": [],
   "source": []
  },
  {
   "cell_type": "code",
   "execution_count": null,
   "id": "a7ca795c",
   "metadata": {},
   "outputs": [],
   "source": []
  },
  {
   "cell_type": "code",
   "execution_count": null,
   "id": "212cbf95",
   "metadata": {},
   "outputs": [],
   "source": []
  },
  {
   "cell_type": "code",
   "execution_count": null,
   "id": "87efc844",
   "metadata": {},
   "outputs": [],
   "source": []
  },
  {
   "cell_type": "code",
   "execution_count": null,
   "id": "8d719270",
   "metadata": {},
   "outputs": [],
   "source": []
  },
  {
   "cell_type": "code",
   "execution_count": null,
   "id": "250cba73",
   "metadata": {},
   "outputs": [],
   "source": []
  },
  {
   "cell_type": "code",
   "execution_count": null,
   "id": "2a415031",
   "metadata": {},
   "outputs": [],
   "source": []
  },
  {
   "cell_type": "code",
   "execution_count": null,
   "id": "db696625",
   "metadata": {},
   "outputs": [],
   "source": []
  },
  {
   "cell_type": "code",
   "execution_count": null,
   "id": "0a22b7ed",
   "metadata": {},
   "outputs": [],
   "source": []
  },
  {
   "cell_type": "code",
   "execution_count": null,
   "id": "18d49ba1",
   "metadata": {},
   "outputs": [],
   "source": []
  },
  {
   "cell_type": "code",
   "execution_count": null,
   "id": "37fb3f64",
   "metadata": {},
   "outputs": [],
   "source": []
  },
  {
   "cell_type": "code",
   "execution_count": null,
   "id": "e9111e25",
   "metadata": {},
   "outputs": [],
   "source": []
  },
  {
   "cell_type": "code",
   "execution_count": null,
   "id": "5d77974c",
   "metadata": {},
   "outputs": [],
   "source": []
  },
  {
   "cell_type": "code",
   "execution_count": null,
   "id": "3b95144b",
   "metadata": {},
   "outputs": [],
   "source": []
  },
  {
   "cell_type": "code",
   "execution_count": null,
   "id": "3c0f72a2",
   "metadata": {},
   "outputs": [],
   "source": []
  },
  {
   "cell_type": "code",
   "execution_count": null,
   "id": "3806e125",
   "metadata": {},
   "outputs": [],
   "source": []
  },
  {
   "cell_type": "code",
   "execution_count": null,
   "id": "ea466ab4",
   "metadata": {},
   "outputs": [],
   "source": []
  },
  {
   "cell_type": "code",
   "execution_count": null,
   "id": "55708992",
   "metadata": {},
   "outputs": [],
   "source": []
  },
  {
   "cell_type": "code",
   "execution_count": null,
   "id": "64b2de15",
   "metadata": {},
   "outputs": [],
   "source": []
  },
  {
   "cell_type": "code",
   "execution_count": null,
   "id": "81dde36d",
   "metadata": {},
   "outputs": [],
   "source": []
  },
  {
   "cell_type": "code",
   "execution_count": null,
   "id": "6cbd3fa7",
   "metadata": {},
   "outputs": [],
   "source": []
  },
  {
   "cell_type": "code",
   "execution_count": null,
   "id": "b57c0a84",
   "metadata": {},
   "outputs": [],
   "source": []
  },
  {
   "cell_type": "code",
   "execution_count": null,
   "id": "b7e10480",
   "metadata": {},
   "outputs": [],
   "source": []
  },
  {
   "cell_type": "code",
   "execution_count": null,
   "id": "7aed24b3",
   "metadata": {},
   "outputs": [],
   "source": []
  },
  {
   "cell_type": "code",
   "execution_count": null,
   "id": "5b0e0d63",
   "metadata": {},
   "outputs": [],
   "source": []
  }
 ],
 "metadata": {
  "kernelspec": {
   "display_name": "Python 3 (ipykernel)",
   "language": "python",
   "name": "python3"
  },
  "language_info": {
   "codemirror_mode": {
    "name": "ipython",
    "version": 3
   },
   "file_extension": ".py",
   "mimetype": "text/x-python",
   "name": "python",
   "nbconvert_exporter": "python",
   "pygments_lexer": "ipython3",
   "version": "3.9.13"
  }
 },
 "nbformat": 4,
 "nbformat_minor": 5
}
